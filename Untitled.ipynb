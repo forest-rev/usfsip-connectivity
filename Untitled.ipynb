{
 "cells": [
  {
   "cell_type": "markdown",
   "metadata": {},
   "source": [
    "# Info\n",
    "Contact: Patrick.Jantz@nau.edu\n",
    "Purpose: Compare performance of different graph packages for cost matrix calculation."
   ]
  },
  {
   "cell_type": "code",
   "execution_count": null,
   "metadata": {},
   "outputs": [],
   "source": [
    "# Imports\n",
    "import numpy as np, math, time\n",
    "from scipy import sparse\n",
    "from pylab import imshow\n",
    "import networkx as nx\n",
    "import retworkx as rt\n",
    "import igraph as ig\n",
    "import networkit as nt\n",
    "from scipy.sparse import diags\n",
    "import rasterio as rio"
   ]
  },
  {
   "cell_type": "code",
   "execution_count": 1,
   "metadata": {},
   "outputs": [],
   "source": [
    "# Functions\n",
    "# Minor modification from \n",
    "# https://stackoverflow.com/questions/30199070/how-to-create-a-4-or-8-connected-adjacency-matrix\n",
    "# Diagonal weights set to sqrt(2). Orthogonal weights set to 1.\n",
    "# Calculation for conductance is then conductance value/cellres*weight\n",
    "def connected_adjacency(image, connect, patch_size=(1, 1)):\n",
    "    \"\"\"\n",
    "    Creates an adjacency matrix from an image where nodes are considered adjacent \n",
    "    based on 4-connected or 8-connected pixel neighborhoods.\n",
    "    :param image: 2 or 3 dim array\n",
    "    :param connect: string, either '4' or '8'\n",
    "    :param patch_size: tuple (n,m) used if the image will be decomposed into \n",
    "                   contiguous, non-overlapping patches of size n x m. The \n",
    "                   adjacency matrix will be formed from the smaller sized array\n",
    "                   e.g. original image size = 256 x 256, patch_size=(8, 8), \n",
    "                   then the image under consideration is of size 32 x 32 and \n",
    "                   the adjacency matrix will be of size \n",
    "                   32**2 x 32**2 = 1024 x 1024\n",
    "    :return: adjacency matrix as a sparse matrix (type=scipy.sparse.csr.csr_matrix)\n",
    "    \"\"\"\n",
    "    r, c = image.shape[:2]\n",
    "    r = int(r / patch_size[0])\n",
    "    c = int(c / patch_size[1])\n",
    "    if connect == '4':\n",
    "        # constructed from 2 diagonals above the main diagonal\n",
    "        d1 = np.tile(np.append(np.ones(c-1), [0]), r)[:-1]\n",
    "        d2 = np.ones(c*(r-1))\n",
    "        upper_diags = diags([d1, d2], [1, c])\n",
    "        return upper_diags + upper_diags.T\n",
    "    elif connect == '8':\n",
    "        # constructed from 4 diagonals above the main diagonal\n",
    "        d1 = np.tile(np.append(np.ones(c-1), [0]), r)[:-1]\n",
    "        d2 = np.append([0], d1[:c*(r-1)])\n",
    "        d3 = np.ones(c*(r-1))\n",
    "        d4 = d2[1:-1]\n",
    "        d4[d4==1] = 2.0**0.5\n",
    "        upper_diags = diags([d1, d2, d3, d4], [1, c-1, c, c+1])\n",
    "        return upper_diags + upper_diags.T\n",
    "    else:\n",
    "        raise ValueError('Invalid parameter \\'connect\\'={connect}, must be \"4\" or \"8\".'\n",
    "                     .format(connect=repr(connect)))"
   ]
  },
  {
   "cell_type": "code",
   "execution_count": null,
   "metadata": {},
   "outputs": [],
   "source": [
    "# Set dirs\n",
    "dataDir = 'G:/My Drive/Projects/USFSIP_Connectivity/Data/GeoData/cleo_test/'\n",
    "outDir = 'G:/My Drive/Projects/USFSIP_Connectivity/Data/GeoData/cleo_test/out'\n",
    "\n",
    "# Resistance surface path\n",
    "inresist = \"G:/My Drive/Projects/USFSIP_Connectivity/Data/GeoData/cleo_test/resistance/resist_base_roads.rsg\"\n",
    "\n",
    "# XYfile path\n",
    "xyfilename = dataDir + '/xys/SP_base.xy'"
   ]
  },
  {
   "cell_type": "code",
   "execution_count": null,
   "metadata": {},
   "outputs": [],
   "source": [
    "# Ready xys\n",
    "xys = pd.read_csv(xyfilename)\n",
    "\n",
    "# Use dataset index method to get cell numbers for each xy\n",
    "# Read dataset to array\n",
    "with rio.open(inresist) as ds:   \n",
    "    cinds = [ds.index(i[1].X,i[1].Y) for i in xys.iterrows()]\n",
    "    sources = [(i[0]*ds.shape[1])+i[1] for i in cinds]\n",
    "    A = ds.read(1)\n",
    "    #A[A==-9999]=1000"
   ]
  },
  {
   "cell_type": "code",
   "execution_count": null,
   "metadata": {},
   "outputs": [],
   "source": [
    "# Convert resistance surface to adjacency matrix\n",
    "tic = time.perf_counter()\n",
    "adj8 = connected_adjacency(ds, '8').astype(\"float32\").tocsr()\n",
    "sinds = sparse.find(adj8)\n",
    "A = A.flatten()\n",
    "# Calculate cost weights as average for adjacent cells\n",
    "adj8[sinds[0],sinds[1]] = ((A[sinds[0]] + A[sinds[1]])/2)*sinds[2]*500 # 500 is cell size for test data\n",
    "# Convert adjacency matrix to graph\n",
    "G8 = nx.from_scipy_sparse_matrix(adj8)\n",
    "# Set node attribute using cell value\n",
    "nx.set_node_attributes(G8, dict(zip(range(0,G8.number_of_nodes()), [{'value': i} for i in A])))\n",
    "node_values = nx.get_node_attributes(G8, 'value')\n",
    "# Remove no data nodes\n",
    "G8.remove_nodes_from((n for n, w in node_values.items() if w == -9999))\n",
    "\n",
    "aa = nt.nxadapter.nx2nk(G8, weightAttr='weight')\n",
    "aa.indexEdges()\n",
    "toc = time.perf_counter()\n",
    "print(f\"The process took {toc - tic:0.4f} seconds\")"
   ]
  }
 ],
 "metadata": {
  "kernelspec": {
   "display_name": "Python 3",
   "language": "python",
   "name": "python3"
  },
  "language_info": {
   "codemirror_mode": {
    "name": "ipython",
    "version": 3
   },
   "file_extension": ".py",
   "mimetype": "text/x-python",
   "name": "python",
   "nbconvert_exporter": "python",
   "pygments_lexer": "ipython3",
   "version": "3.7.6"
  }
 },
 "nbformat": 4,
 "nbformat_minor": 4
}
